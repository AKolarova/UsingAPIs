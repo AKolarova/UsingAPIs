{
 "cells": [
  {
   "cell_type": "markdown",
   "metadata": {},
   "source": [
    "# Charlotte Data Explorer\n",
    "Reads and plots Charlotte water quality data pulled using the `CharlotteScraper.ipynb` notebook."
   ]
  },
  {
   "cell_type": "code",
   "execution_count": null,
   "metadata": {},
   "outputs": [],
   "source": [
    "#Imports\n",
    "import glob\n",
    "import pandas as pd\n",
    "import numpy as np\n",
    "import matplotlib.pyplot as plt\n",
    "import datetime as dt\n",
    "\n",
    "## Bokeh map components\n",
    "from bokeh.models import ColumnDataSource,WMTSTileSource\n",
    "from bokeh.plotting import figure, show, output_file\n",
    "from bokeh.tile_providers import *\n",
    "from bokeh.io import output_notebook\n",
    "output_notebook()"
   ]
  },
  {
   "cell_type": "code",
   "execution_count": null,
   "metadata": {},
   "outputs": [],
   "source": [
    "#Function to convert WGS84 points to Web Mercator\n",
    "def wgs84_to_web_mercator(df, lon=\"lon\", lat=\"lat\"):\n",
    "    \"\"\"Converts decimal longitude/latitude to Web Mercator format\"\"\"\n",
    "    k = 6378137\n",
    "    df[\"x\"] = df[lon] * (k * np.pi/180.0)\n",
    "    df[\"y\"] = np.log(np.tan((90 + df[lat]) * np.pi/360.0)) * k\n",
    "    return df"
   ]
  },
  {
   "cell_type": "markdown",
   "metadata": {},
   "source": [
    "### Examine Organics data\n",
    "* Identify and merge all the yearly *result* and *location* data (skip 2015 for now as it has different format)\n",
    "* Append coordinates information to result records\n",
    "* Plot, for a given year, violations vs ok"
   ]
  },
  {
   "cell_type": "code",
   "execution_count": null,
   "metadata": {},
   "outputs": [],
   "source": [
    "#Get files\n",
    "locationFiles = glob.glob('.\\\\data\\\\Charlotte\\\\**\\\\*Organic Chemicals.csv')\n",
    "resultFiles = glob.glob('.\\\\data\\\\Charlotte\\\\**\\\\Organics Results *.csv')"
   ]
  },
  {
   "cell_type": "code",
   "execution_count": null,
   "metadata": {},
   "outputs": [],
   "source": [
    "resultFiles"
   ]
  },
  {
   "cell_type": "code",
   "execution_count": null,
   "metadata": {},
   "outputs": [],
   "source": [
    "#Merge result files\n",
    "dfList = []\n",
    "for file in resultFiles:\n",
    "    df = pd.read_csv(file,index_col=\"OBJECTID\")#,parse_dates=['CollectionDate'])\n",
    "    #print(str(df.columns.values.tolist()))\n",
    "    dfList.append(df)\n",
    "dfResults = pd.concat(dfList,axis='rows')\n",
    "#Drop the GlobalID column\n",
    "dfResults.drop(\"GlobalID\",axis=1,inplace=True)\n",
    "#Add a year column\n",
    "dfResults['CollectionDate'] = pd.to_datetime(dfResults['CollectionDate'],format='%Y-%m-%d')\n",
    "dfResults.insert(0,'Year',dfResults['CollectionDate'].dt.year)"
   ]
  },
  {
   "cell_type": "code",
   "execution_count": null,
   "metadata": {},
   "outputs": [],
   "source": [
    "#Merge locations files\n",
    "dfList = []\n",
    "for file in locationFiles[1:]:\n",
    "    df = pd.read_csv(file,index_col=\"OBJECTID\")\n",
    "    df.insert(0,'Year',file.split(\"\\\\\")[1][:4])\n",
    "    #print(str(df.columns.values.tolist()))\n",
    "    dfList.append(df)\n",
    "dfLocations = pd.concat(dfList)"
   ]
  },
  {
   "cell_type": "code",
   "execution_count": null,
   "metadata": {},
   "outputs": [],
   "source": [
    "#Check that RawLocation codes are unique\n",
    "datesDF = dfLocations.groupby(['RawLocationCode','x','y','Year'])['NPA'].count().unstack('Year')\n",
    "datesDF.max() #None should be > 1"
   ]
  },
  {
   "cell_type": "code",
   "execution_count": null,
   "metadata": {},
   "outputs": [],
   "source": [
    "#Convert results to numbers, setting trace values to 0\n",
    "dfResults['Value'] = dfResults['Result'].apply(lambda x: x.split()[0] if (x[0] != '<') else 0)\n",
    "dfResults['Value'] = dfResults['Value'].astype(np.float)"
   ]
  },
  {
   "cell_type": "code",
   "execution_count": null,
   "metadata": {},
   "outputs": [],
   "source": [
    "#Group by analyte and year\n",
    "dfX = dfResults.groupby(['Year','AnalyteName'])['Value']\n",
    "dfYear = dfX.mean().unstack('Year')\n",
    "dfYear.sample(5)"
   ]
  },
  {
   "cell_type": "code",
   "execution_count": null,
   "metadata": {},
   "outputs": [],
   "source": [
    "#Examine the row identifier columns\n",
    "dfLocations[['Year','RawLocationCode','x','y']].head()"
   ]
  },
  {
   "cell_type": "code",
   "execution_count": null,
   "metadata": {},
   "outputs": [],
   "source": [
    "#Add coordinates to the results by joining the location data\n",
    "dfSite = pd.merge(dfResults,dfLocations[['RawLocationCode','x','y']],how='left',on=['RawLocationCode'])\n",
    "#Convert coordinates to web mercator\n",
    "dfSite.rename({'x':'lon','y':'lat'},axis='columns',inplace=True)\n",
    "dfSite = wgs84_to_web_mercator(dfSite)\n",
    "dfSite.head()"
   ]
  },
  {
   "cell_type": "code",
   "execution_count": null,
   "metadata": {},
   "outputs": [],
   "source": [
    "#Create a bokeh CDS from the dataframe\n",
    "source = ColumnDataSource(dfSite)"
   ]
  },
  {
   "cell_type": "code",
   "execution_count": null,
   "metadata": {},
   "outputs": [],
   "source": [
    "#Simple data source\n",
    "p = figure(title=\"Map\")\n",
    "p.circle(x='x',y='y',source=source)\n",
    "show(p)"
   ]
  },
  {
   "cell_type": "code",
   "execution_count": null,
   "metadata": {},
   "outputs": [],
   "source": [
    "xMin = dfSite.x.min();xMax = dfSite.x.max()\n",
    "yMin = dfSite.y.min();yMax = dfSite.y.max()\n",
    "p = figure(x_range=(xMin, xMax), y_range=(yMin, yMax))#,\n",
    "           #x_axis_type=\"mercator\", y_axis_type=\"mercator\")\n",
    "p.add_tile(get_provider(CARTODBPOSITRON))\n",
    "p.circle(x='x',y='y',source=source)\n",
    "show(p)"
   ]
  },
  {
   "cell_type": "code",
   "execution_count": null,
   "metadata": {},
   "outputs": [],
   "source": []
  }
 ],
 "metadata": {
  "kernelspec": {
   "display_name": "Python 3",
   "language": "python",
   "name": "python3"
  },
  "language_info": {
   "codemirror_mode": {
    "name": "ipython",
    "version": 3
   },
   "file_extension": ".py",
   "mimetype": "text/x-python",
   "name": "python",
   "nbconvert_exporter": "python",
   "pygments_lexer": "ipython3",
   "version": "3.6.12"
  }
 },
 "nbformat": 4,
 "nbformat_minor": 2
}
