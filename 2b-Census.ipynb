{
 "cells": [
  {
   "cell_type": "markdown",
   "metadata": {},
   "source": [
    "## Census REST interface\n",
    "The US Ceneus Bureau, who's all about collecting and sharing data, provides a number of REST-ful API for accessing data. These APIs are documented here: https://www.census.gov/data/developers/data-sets.html\n",
    "\n",
    "This notebook provides example code how to access on of their API services, the [5-year Ammerican Community Service Data](https://www.census.gov/data/developers/data-sets/acs-5year.html)."
   ]
  },
  {
   "cell_type": "markdown",
   "metadata": {},
   "source": [
    "* First we need import the Python packages needed to access this API (`requests`) and wrangle the data (`pandas`)."
   ]
  },
  {
   "cell_type": "code",
   "execution_count": null,
   "metadata": {},
   "outputs": [],
   "source": [
    "#Import modules\n",
    "import requests\n",
    "import pandas as pd"
   ]
  },
  {
   "cell_type": "markdown",
   "metadata": {},
   "source": [
    "* If you are going to use this API in production mode, you'll need to sign up for a key. It's free and mostly just keeps track of usage so nobody abuses the service provided. For just tinkering around, you can set the key to `None` and most features will still work."
   ]
  },
  {
   "cell_type": "code",
   "execution_count": null,
   "metadata": {},
   "outputs": [],
   "source": [
    "#Set the key\n",
    "key = None"
   ]
  },
  {
   "cell_type": "markdown",
   "metadata": {},
   "source": [
    "### American Community Survey 5-Year Data (2009-2017)\n",
    "We'll narrow in on one of the many Census APIs, namely the American Community Survey 5 year dataset:\n",
    "https://www.census.gov/data/developers/data-sets/acs-5year.html<br>\n",
    "https://api.census.gov/data/2017/acs/acs5/examples.html\n",
    "\n",
    "### Step 1: Familiarize yourself with the API calls\n",
    "_What we need to first do is gain command of the the API so we can use it to pull the exact data we want. Interacting with live examples is a great way to play around and learn how it works._ \n",
    "\n",
    "* The first link above provides information about the ACS 5-year dataset and its structure (detailed tables, subject tables, data profiles, etc.). Open that [link](https://www.census.gov/data/developers/data-sets/acs-5year.html)...\n",
    "\n",
    "\n",
    "* Scroll down to the **Detailed Tables:** section. There you'll see an example API call.<br> → _Can you identify the **server name**, **the service name**, and the parameters**?_  \n",
    "\n",
    "\n",
    "* Click on the link pointing to [Examples and Supported Geography](https://api.census.gov/data/2017/acs/acs5.html). This reveals a guide to implementing the API. \n",
    "\n",
    "\n",
    "* Now, click on the [examples](https://api.census.gov/data/2017/acs/acs5/examples.html) link in the first row to reveal several example calls to the API. Among these examples, let's see if we can extract data for all counties in North Carolina (FIPS = 37).\n",
    "\n",
    "\n",
    "* Find the row in the examples table labeled `state>county`. Click on the [second link](https://api.census.gov/data/2017/acs/acs5?get=NAME,B01001_001E&for=county:*&in=state:*) (as this one has entries in the REST URL for selecting both state and county...)\n",
    " * _The resulting web page, the **response** to our **request**, appears as a list (one item per each county) of lists (describing attributes of the county)._\n",
    " \n",
    " \n",
    "* Now modify the URL in your browser: Replace `state:*` with `state:37`. \n",
    " * _You've now filtered records for just North Carolina._\n",
    " \n",
    " \n",
    "* →**See if you can modify it so just Durham County (FIPS = 063) appears...** ([link](https://api.census.gov/data/2017/acs/acs5?get=NAME,B01001_001E&for=county:063&in=state:37))"
   ]
  },
  {
   "cell_type": "markdown",
   "metadata": {},
   "source": [
    "Next, we'll tweak the URL to modify what variable values are returned. If you look at the URL request just sent, it includes `get=NAME,B01001_001E`. If you refer back to the list of examples (link), and the click on the [`variables`](https://api.census.gov/data/2017/acs/acs5/variables.html) link, you'll find that `B01001_001E` is \"UNWEIGHTED SAMPLE COUNT OF THE POPULATION\". \n",
    "* See if you can tweak the API URL to retrieve \"Estimated total male population\" for Durham county. ([Link](https://api.census.gov/data/2017/acs/acs5?get=NAME,B01001_002E&for=county:063&in=state:37))\n",
    "* Challenge: \n",
    " * _How many 21 year old males lived in Durham in 2017?_ (Answer: 2003). \n",
    " * _What about in all of NC?_ (Answer: 79,088) "
   ]
  },
  {
   "cell_type": "markdown",
   "metadata": {},
   "source": [
    "### Step 2. Calling the API from Python\n",
    "* Here we construct the components of the REST-ful service, namely the service's endpoint and the parameters used to invoke the service to suit our needs. You'd need to consult the API documentation to determine what parameters are used and what values you'd include to get what you want."
   ]
  },
  {
   "cell_type": "code",
   "execution_count": null,
   "metadata": {},
   "outputs": [],
   "source": [
    "#Endpoint and payload\n",
    "baseURL = 'https://api.census.gov/data/2017/acs/acs5'\n",
    "payload = {'get':'NAME,B01001_001E',\n",
    "           'for':'county:*',\n",
    "           'in':'state:37',\n",
    "           'key':key\n",
    "          }"
   ]
  },
  {
   "cell_type": "markdown",
   "metadata": {},
   "source": [
    "* Now to send off the request to the Census server and hold the response locally"
   ]
  },
  {
   "cell_type": "code",
   "execution_count": null,
   "metadata": {},
   "outputs": [],
   "source": [
    "# Sent the request and store the response\n",
    "response = requests.get(baseURL,payload)"
   ]
  },
  {
   "cell_type": "markdown",
   "metadata": {},
   "source": [
    "* Have a look at the repsonse object contents. We can access these contents both as text and as binary objects."
   ]
  },
  {
   "cell_type": "code",
   "execution_count": null,
   "metadata": {},
   "outputs": [],
   "source": [
    "t = response.text\n",
    "c = response.content\n",
    "print(type(t), type(c))"
   ]
  },
  {
   "cell_type": "markdown",
   "metadata": {},
   "source": [
    "* Print the response as text. Looks just like a list (of lists)!"
   ]
  },
  {
   "cell_type": "code",
   "execution_count": null,
   "metadata": {
    "scrolled": true
   },
   "outputs": [],
   "source": [
    "print (t)"
   ]
  },
  {
   "cell_type": "markdown",
   "metadata": {},
   "source": [
    "* From here, it's a matter of exploring and interpreting your results. Often you'll want to convert your results to a JSON object. This often yields a list or dictionary which we can control more easily than a long text object."
   ]
  },
  {
   "cell_type": "code",
   "execution_count": null,
   "metadata": {},
   "outputs": [],
   "source": [
    "#Convert the response object to JSON format.\n",
    "j = response.json()"
   ]
  },
  {
   "cell_type": "code",
   "execution_count": null,
   "metadata": {},
   "outputs": [],
   "source": [
    "#What type of variable is returned\n",
    "type(j)"
   ]
  },
  {
   "cell_type": "code",
   "execution_count": null,
   "metadata": {},
   "outputs": [],
   "source": [
    "#Print the first two items in the list\n",
    "j[0:2]"
   ]
  },
  {
   "cell_type": "code",
   "execution_count": null,
   "metadata": {},
   "outputs": [],
   "source": [
    "#Convert to a dataframe\n",
    "dfACS = pd.DataFrame(j[1:],columns=j[0])\n",
    "dfACS['B01001_001E'] = dfACS['B01001_001E'].astype('int')\n",
    "dfACS.head(10)"
   ]
  },
  {
   "cell_type": "code",
   "execution_count": null,
   "metadata": {},
   "outputs": [],
   "source": [
    "%matplotlib inline\n",
    "dfACS.head(10).set_index('NAME').plot(kind='barh');"
   ]
  }
 ],
 "metadata": {
  "kernelspec": {
   "display_name": "Python 3",
   "language": "python",
   "name": "python3"
  },
  "language_info": {
   "codemirror_mode": {
    "name": "ipython",
    "version": 3
   },
   "file_extension": ".py",
   "mimetype": "text/x-python",
   "name": "python",
   "nbconvert_exporter": "python",
   "pygments_lexer": "ipython3",
   "version": "3.6.12"
  }
 },
 "nbformat": 4,
 "nbformat_minor": 2
}
