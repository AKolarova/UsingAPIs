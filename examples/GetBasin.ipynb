{
 "cells": [
  {
   "cell_type": "markdown",
   "metadata": {},
   "source": [
    "## Using the USGS Hydro Network-Linked Data Index (NLDI) API\n",
    "The USGS provides a web service that enables the user to trace up- or down-stream from a given location and identify all the NHD catchments along that route. It's quite a useful tool for looking at hydologically connected areas, but we need to master the API to use this great resource. \n",
    "\n",
    "Below is an example of this API in action to help move you along if you want to use this in your work. \n",
    "\n",
    "#### Links:\n",
    "* https://owi.usgs.gov/blog/nldi-intro/\n",
    "* https://github.com/ACWI-SSWD/nldi-services - a link with good documentation on the API"
   ]
  },
  {
   "cell_type": "code",
   "execution_count": null,
   "metadata": {},
   "outputs": [],
   "source": [
    "#Import the requests package to handle client-server requests\n",
    "import requests"
   ]
  },
  {
   "cell_type": "code",
   "execution_count": null,
   "metadata": {},
   "outputs": [],
   "source": [
    "#Set the service URL to a variable\n",
    "nldiURL = 'https://cida.usgs.gov/nldi'"
   ]
  },
  {
   "cell_type": "code",
   "execution_count": null,
   "metadata": {},
   "outputs": [],
   "source": [
    "#Set the API parameters\n",
    "QTypes = {'DM':'Downstream Main',\n",
    "          'UM':'Upstream Main',\n",
    "          'DD':'Downstream with Diversions',\n",
    "          'UT':'Upstream with Tributaries'}"
   ]
  },
  {
   "cell_type": "code",
   "execution_count": null,
   "metadata": {},
   "outputs": [],
   "source": [
    "#User Values\n",
    "f = 'huc12pp'       #SourceType\n",
    "e = 'DM'            #QueryType - Here, we'll look Downstream along the Main channel\n",
    "c = '180201251003'  #ComIDField - the NHD+ COMID of the start catchment\n",
    "d = ''              #DistanceField - left blank to omit any distance limit"
   ]
  },
  {
   "cell_type": "code",
   "execution_count": null,
   "metadata": {},
   "outputs": [],
   "source": [
    "#Service URLs\n",
    "wqpURL = \"{}/{}/{}/{}/wqp\".format(nldiURL,f,c,e)\n",
    "huc12ppURL = \"{}/{}/{}/navigate/{}/huc12pp\".format(nldiURL,f,c,e)\n",
    "nhdURL = \"{}{}/{}/navigate/{}\".format(nldiURL,f,c,e)\n",
    "basinURL = \"{}/{}/{}/basin\".format(nldiURL,f,c,e) "
   ]
  },
  {
   "cell_type": "code",
   "execution_count": null,
   "metadata": {},
   "outputs": [],
   "source": [
    "#Show an example of one of the URLs\n",
    "print(basinURL)"
   ]
  },
  {
   "cell_type": "code",
   "execution_count": null,
   "metadata": {},
   "outputs": [],
   "source": [
    "#Send the request and store the response\n",
    "rawResp = requests.get(basinURL)"
   ]
  },
  {
   "cell_type": "code",
   "execution_count": null,
   "metadata": {},
   "outputs": [],
   "source": [
    "#Convert the response to a JSON object (i.e. a Python dictionary)\n",
    "j = rawResp.json()"
   ]
  },
  {
   "cell_type": "code",
   "execution_count": null,
   "metadata": {},
   "outputs": [],
   "source": [
    "#Reveal the keys at the highest level \n",
    "j.keys()"
   ]
  },
  {
   "cell_type": "code",
   "execution_count": null,
   "metadata": {},
   "outputs": [],
   "source": [
    "#Drill into the 'features' items\n",
    "feats = j['features']\n",
    "len(feats)"
   ]
  },
  {
   "cell_type": "code",
   "execution_count": null,
   "metadata": {},
   "outputs": [],
   "source": [
    "#Explore the first feature item and the key's it has\n",
    "feat = feats[0]\n",
    "feat.keys()"
   ]
  },
  {
   "cell_type": "code",
   "execution_count": null,
   "metadata": {},
   "outputs": [],
   "source": [
    "#Grab the \"geom\" item from the first feature; reveal it's datatype\n",
    "geom = feat['geometry']\n",
    "type(geom)"
   ]
  },
  {
   "cell_type": "code",
   "execution_count": null,
   "metadata": {},
   "outputs": [],
   "source": [
    "#Explore the geom object...\n",
    "geom.keys()"
   ]
  },
  {
   "cell_type": "markdown",
   "metadata": {},
   "source": [
    "Turns out this `geom` object is a dictionary, but it has the format of a [\"geoJSON\"](https://geojson.org/) object. Python has a \"geojson\" package which allows us to handle these objects. "
   ]
  },
  {
   "cell_type": "code",
   "execution_count": null,
   "metadata": {},
   "outputs": [],
   "source": [
    "import geojson"
   ]
  },
  {
   "cell_type": "markdown",
   "metadata": {},
   "source": [
    "_If the geojson object is missing in your environment install it by running the following in a new code cell:_\n",
    "```\n",
    "pip install geojson\n",
    "```"
   ]
  },
  {
   "cell_type": "code",
   "execution_count": null,
   "metadata": {},
   "outputs": [],
   "source": [
    "#Get the first feature and convert it into a muiltifeature object\n",
    "m = geojson.MultiPolygon(feats[0]['geometry']['coordinates'])\n",
    "type(m)"
   ]
  },
  {
   "cell_type": "markdown",
   "metadata": {},
   "source": [
    "And now, we'll use geopandas to plot our multipolygon object..."
   ]
  },
  {
   "cell_type": "code",
   "execution_count": null,
   "metadata": {},
   "outputs": [],
   "source": [
    "import geopandas as gpd\n",
    "from geopandas import GeoSeries\n",
    "from geopandas import GeoDataFrame"
   ]
  },
  {
   "cell_type": "code",
   "execution_count": null,
   "metadata": {},
   "outputs": [],
   "source": [
    "#Create a geoseries from our multipolygon object\n",
    "gSeries = GeoSeries(m)\n",
    "type(gSeries)"
   ]
  },
  {
   "cell_type": "code",
   "execution_count": null,
   "metadata": {},
   "outputs": [],
   "source": [
    "#Create geodataframe from our geoseries object\n",
    "gdf = GeoDataFrame.from_features(feats)\n",
    "type(gdf)"
   ]
  },
  {
   "cell_type": "code",
   "execution_count": null,
   "metadata": {},
   "outputs": [],
   "source": [
    "#Tell jupyter to show plots \"in-line\"\n",
    "%matplotlib inline"
   ]
  },
  {
   "cell_type": "code",
   "execution_count": null,
   "metadata": {},
   "outputs": [],
   "source": [
    "#Polt the geodataframe\n",
    "gdf.boundary.plot();"
   ]
  },
  {
   "cell_type": "markdown",
   "metadata": {},
   "source": [
    "Yes, there are easier and more streamlined ways of doing this, but this reveals the basic constructs of APIs and how we can convert and use geometric features returned as server responses to our client requests."
   ]
  }
 ],
 "metadata": {
  "kernelspec": {
   "display_name": "Python 3",
   "language": "python",
   "name": "python3"
  },
  "language_info": {
   "codemirror_mode": {
    "name": "ipython",
    "version": 3
   },
   "file_extension": ".py",
   "mimetype": "text/x-python",
   "name": "python",
   "nbconvert_exporter": "python",
   "pygments_lexer": "ipython3",
   "version": "3.6.12"
  }
 },
 "nbformat": 4,
 "nbformat_minor": 2
}
